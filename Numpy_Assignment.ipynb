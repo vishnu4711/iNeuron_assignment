{
 "cells": [
  {
   "cell_type": "markdown",
   "metadata": {},
   "source": [
    "1).Write a function so that the columns of the output matrix are powers of the input\n",
    "vector."
   ]
  },
  {
   "cell_type": "code",
   "execution_count": 16,
   "metadata": {},
   "outputs": [],
   "source": [
    "import numpy as np\n",
    "def vander():\n",
    "    arr = []\n",
    "    m = c-1\n",
    "    for i in IP_matrix:\n",
    "        if increasing.upper()=='T':\n",
    "            for j in range(0,m+1):\n",
    "                arr.append(i**j)\n",
    "        elif increasing.upper()=='F':\n",
    "            for j in range(m,-1,-1):\n",
    "                arr.append(i**j)\n",
    "    if len(arr)>0:\n",
    "        print('\\nThe output matrix is: \\n'+'-'*20+'\\n{}'.format(np.array(arr).reshape(-1,c)))\n",
    "    else:\n",
    "        print('\\nSomething wrong with your entry !!!!')"
   ]
  },
  {
   "cell_type": "code",
   "execution_count": 18,
   "metadata": {
    "scrolled": true
   },
   "outputs": [
    {
     "name": "stdout",
     "output_type": "stream",
     "text": [
      "True or False?\n",
      "(T/F)  t\n",
      "\n",
      "The output matrix is: \n",
      "--------------------\n",
      "[[  1   1   1   1]\n",
      " [  1   2   4   8]\n",
      " [  1   3   9  27]\n",
      " [  1   5  25 125]]\n"
     ]
    }
   ],
   "source": [
    "IP_matrix = [1,2,3,5]\n",
    "c = 4\n",
    "increasing = input('True or False?\\n(T/F)  ')\n",
    "\n",
    "vander()"
   ]
  },
  {
   "cell_type": "markdown",
   "metadata": {},
   "source": [
    "2).Write a function to find moving average in an array over a window:\n",
    "Test it over [3, 5, 7, 2, 8, 10, 11, 65, 72, 81, 99, 100, 150] and window of 3."
   ]
  },
  {
   "cell_type": "code",
   "execution_count": 3,
   "metadata": {},
   "outputs": [],
   "source": [
    "def mov_avg_val(l,w):\n",
    "    mov_avg = []\n",
    "    for i in range(len(l)-2):\n",
    "        mov_avg.append(round((l[i]+l[i+1]+l[i+2])/w,1))\n",
    "    print('\\nThe moving average is = {}'.format(mov_avg))\n",
    "    print('The lenght of the list L-N+1 = \\\"%d\\\"'%len(mov_avg))"
   ]
  },
  {
   "cell_type": "code",
   "execution_count": 4,
   "metadata": {},
   "outputs": [
    {
     "name": "stdout",
     "output_type": "stream",
     "text": [
      "\n",
      "The moving average is = [5.0, 4.7, 5.7, 6.7, 9.7, 28.7, 49.3, 72.7, 84.0, 93.3, 116.3]\n",
      "The lenght of the list L-N+1 = \"11\"\n"
     ]
    }
   ],
   "source": [
    "l = [3, 5, 7, 2, 8, 10, 11, 65, 72, 81, 99, 100, 150]\n",
    "w = 3\n",
    "\n",
    "mov_avg_val(l,w)"
   ]
  }
 ],
 "metadata": {
  "kernelspec": {
   "display_name": "Python 3",
   "language": "python",
   "name": "python3"
  },
  "language_info": {
   "codemirror_mode": {
    "name": "ipython",
    "version": 3
   },
   "file_extension": ".py",
   "mimetype": "text/x-python",
   "name": "python",
   "nbconvert_exporter": "python",
   "pygments_lexer": "ipython3",
   "version": "3.8.5"
  }
 },
 "nbformat": 4,
 "nbformat_minor": 4
}
