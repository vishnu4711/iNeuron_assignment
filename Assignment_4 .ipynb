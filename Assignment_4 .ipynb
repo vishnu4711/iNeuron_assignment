{
 "cells": [
  {
   "cell_type": "markdown",
   "metadata": {},
   "source": [
    "1.1) Write a Python Program(with class concepts) to find the area of the triangle using the below\n",
    "     formula.\n",
    "     \n",
    "    area = (s*(s-a)*(s-b)*(s-c)) ** 0.5\n",
    "     \n",
    "    Function to take the length of the sides of triangle from user should be defined in the parent\n",
    "    class and function to calculate the area should be defined in subclass."
   ]
  },
  {
   "cell_type": "code",
   "execution_count": 3,
   "metadata": {},
   "outputs": [
    {
     "data": {
      "text/plain": [
       "9.921567416492215"
      ]
     },
     "execution_count": 3,
     "metadata": {},
     "output_type": "execute_result"
    }
   ],
   "source": [
    "class Triangle():\n",
    "    def __init__(self,a,b,c):\n",
    "        self.a = a\n",
    "        self.b = b\n",
    "        self.c = c\n",
    "class Area(Triangle):\n",
    "    def area(self):\n",
    "        s = (self.a + self.b + self.c) / 2\n",
    "        ar = (s * (s - self.a)*(s - self.b)*(s - self.c)) ** 0.5\n",
    "        return ar\n",
    "n = Area(4,5,6)\n",
    "n.area()"
   ]
  },
  {
   "cell_type": "markdown",
   "metadata": {},
   "source": [
    "61.2) Write a function filter_long_words() that takes a list of words and an integer n and returns\n",
    "     the list of words that are longer than n."
   ]
  },
  {
   "cell_type": "code",
   "execution_count": 5,
   "metadata": {},
   "outputs": [
    {
     "name": "stdout",
     "output_type": "stream",
     "text": [
      "Enter the minimum length of the word- 3\n",
      "Enter the number of elements for list- 5\n",
      "1-car\n",
      "2-innova\n",
      "3-maruthi\n",
      "4-swift\n",
      "5-eon\n",
      "['innova', 'maruthi', 'swift']\n"
     ]
    }
   ],
   "source": [
    "def filter_long_words(l,n):\n",
    "    new = []\n",
    "    for i in l:\n",
    "        if len(i) > n:\n",
    "            new.append(i)\n",
    "    return new\n",
    "l = []\n",
    "n = int(input(\"Enter the minimum length of the word- \"))\n",
    "a = int(input(\"Enter the number of elements for list- \"))\n",
    "for i in range(a):\n",
    "    m = input(str(i+1)+\"-\")\n",
    "    l.append(m)\n",
    "z = filter_long_words(l,n)\n",
    "print(z)"
   ]
  },
  {
   "cell_type": "markdown",
   "metadata": {},
   "source": [
    "2.1) Write a Python program using function concept that maps list of words into a list of integers\n",
    "representing the lengths of the corresponding words.\n",
    "\n",
    "    Hint: If a list [ ab,cde,erty] is passed on to the python function output should come as [2,3,4]\n",
    "    Here 2,3 and 4 are the lengths of the words in the list."
   ]
  },
  {
   "cell_type": "code",
   "execution_count": 6,
   "metadata": {},
   "outputs": [
    {
     "name": "stdout",
     "output_type": "stream",
     "text": [
      "Enter number of list elements- 5\n",
      "1 -we\n",
      "2 -stay\n",
      "3 -in \n",
      "4 -a\n",
      "5 -hotel\n",
      "[2, 4, 3, 1, 5]\n"
     ]
    }
   ],
   "source": [
    "def ln_words(l):\n",
    "    c = 0\n",
    "    n = []\n",
    "    for i in l:\n",
    "        c = len(i)\n",
    "        n.append(c)\n",
    "    return n\n",
    "l = []\n",
    "a = int(input(\"Enter number of list elements- \"))\n",
    "for j in range(a):\n",
    "    w = input(str(j+1)+\" -\")\n",
    "    l.append(w)\n",
    "z = list(ln_words(l))\n",
    "print(z)"
   ]
  },
  {
   "cell_type": "markdown",
   "metadata": {},
   "source": [
    "2.2)  Write a Python function which takes a character (i.e. a string of length 1) and returns True if\n",
    "      it is a vowel, False otherwise."
   ]
  },
  {
   "cell_type": "code",
   "execution_count": 8,
   "metadata": {},
   "outputs": [
    {
     "name": "stdout",
     "output_type": "stream",
     "text": [
      "Enter a charecter- a\n",
      "True\n"
     ]
    }
   ],
   "source": [
    "def vovel(x):\n",
    "    if len(x) == 1 and x.upper() in \"AEIOU\": \n",
    "        return True\n",
    "    else:\n",
    "        return False\n",
    "x = vovel(input(\"Enter a charecter- \"))\n",
    "print(x)"
   ]
  }
 ],
 "metadata": {
  "kernelspec": {
   "display_name": "Python 3",
   "language": "python",
   "name": "python3"
  },
  "language_info": {
   "codemirror_mode": {
    "name": "ipython",
    "version": 3
   },
   "file_extension": ".py",
   "mimetype": "text/x-python",
   "name": "python",
   "nbconvert_exporter": "python",
   "pygments_lexer": "ipython3",
   "version": "3.8.5"
  }
 },
 "nbformat": 4,
 "nbformat_minor": 4
}
