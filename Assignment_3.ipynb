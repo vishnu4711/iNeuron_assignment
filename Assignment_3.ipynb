{
 "cells": [
  {
   "cell_type": "markdown",
   "metadata": {},
   "source": [
    "1.1) Write a Python Program to implement your own myreduce() function which works exactly\n",
    "     like Python's built-in function reduce()\n",
    "     \n",
    "     This program takes a number input from user and print the sum of all numbers within that range."
   ]
  },
  {
   "cell_type": "code",
   "execution_count": 1,
   "metadata": {},
   "outputs": [
    {
     "name": "stdout",
     "output_type": "stream",
     "text": [
      "Enter the range of number- 10\n",
      "List\t=\t[0, 1, 2, 3, 4, 5, 6, 7, 8, 9, 10]\n",
      "Sum\t=\t55\n"
     ]
    }
   ],
   "source": [
    "def myreduce(z):\n",
    "    r = 0\n",
    "    l = []\n",
    "    for i in range(n+1):\n",
    "        r += i\n",
    "        l.append(i)\n",
    "    return l,r\n",
    "n = int(input(\"Enter the range of number- \"))\n",
    "q = myreduce(n)\n",
    "print(\"List\\t=\\t\"+str(q[0])+\"\\nSum\\t=\\t\"+str(q[1]))"
   ]
  },
  {
   "cell_type": "markdown",
   "metadata": {},
   "source": [
    "1.2) Write a Python program to implement your own myfilter() function which works exactly\n",
    "     like Python's built-in function filter()\n",
    "     \n",
    "     This program takes a list of numbers from user and return list of odd or even numbers acoording to user input."
   ]
  },
  {
   "cell_type": "code",
   "execution_count": 21,
   "metadata": {},
   "outputs": [
    {
     "name": "stdout",
     "output_type": "stream",
     "text": [
      "Enter range of list- 5\n",
      "1- 8\n",
      "2- 9\n",
      "3- 7\n",
      "4- 4\n",
      "5- 2\n",
      "select odd or even- even\n",
      "[8, 4, 2]\n"
     ]
    }
   ],
   "source": [
    "def myfilter(o):\n",
    "#making list for odd and even number\n",
    "    even = []\n",
    "    odd = []\n",
    "    for i in l:\n",
    "        if i%2 == 0:\n",
    "            even.append(i)\n",
    "        else:\n",
    "            odd.append(i)\n",
    "    return even,odd\n",
    "\n",
    "#list making according to user specifications\n",
    "l = []\n",
    "r = int(input(\"Enter range of list- \"))            \n",
    "for i in range(r):\n",
    "    n = int(input(str(i+1)+\"- \"))\n",
    "    l.append(n)\n",
    "\n",
    "#odd or even selection by user\n",
    "sel = input(\"select odd or even- \")\n",
    "\n",
    "result = myfilter(l)\n",
    "\n",
    "if sel.upper() == \"EVEN\":\n",
    "    print(result[0])\n",
    "elif sel.upper() == \"ODD\":\n",
    "    print(result[1])\n",
    "else:\n",
    "    print(\"\\nWrong selection\")\n"
   ]
  },
  {
   "cell_type": "markdown",
   "metadata": {},
   "source": [
    "2) Implement List comprehensions to produce the following lists. "
   ]
  },
  {
   "cell_type": "markdown",
   "metadata": {},
   "source": [
    "(a)  ['A', 'C', 'A', 'D', 'G', 'I', ’L’, ‘ D’]"
   ]
  },
  {
   "cell_type": "code",
   "execution_count": 19,
   "metadata": {},
   "outputs": [
    {
     "data": {
      "text/plain": [
       "['A', 'C', 'A', 'D', 'G', 'I', 'L', 'D']"
      ]
     },
     "execution_count": 19,
     "metadata": {},
     "output_type": "execute_result"
    }
   ],
   "source": [
    "l1 = [i for i in \"ACADGILD\"]\n",
    "l1"
   ]
  },
  {
   "cell_type": "markdown",
   "metadata": {},
   "source": [
    "(b) ['x', 'xx', 'xxx', 'xxxx', 'y', 'yy', 'yyy', 'yyyy', 'z', 'zz', 'zzz', 'zzzz']  \n"
   ]
  },
  {
   "cell_type": "code",
   "execution_count": 20,
   "metadata": {},
   "outputs": [
    {
     "data": {
      "text/plain": [
       "['x', 'xx', 'xxx', 'xxxx', 'y', 'yy', 'yyy', 'yyyy', 'z', 'zz', 'zzz', 'zzzz']"
      ]
     },
     "execution_count": 20,
     "metadata": {},
     "output_type": "execute_result"
    }
   ],
   "source": [
    "l2 = [i*j for i in \"xyz\" for j in range(1,5)]\n",
    "l2"
   ]
  },
  {
   "cell_type": "markdown",
   "metadata": {},
   "source": [
    "(c) ['x', 'y', 'z', 'xx', 'yy', 'zz', 'xxx', 'yyy', 'zzz', 'xxxx', 'yyyy', 'zzzz']  \n"
   ]
  },
  {
   "cell_type": "code",
   "execution_count": 14,
   "metadata": {},
   "outputs": [
    {
     "data": {
      "text/plain": [
       "['x', 'y', 'z', 'xx', 'yy', 'zz', 'xxx', 'yyy', 'zzz', 'xxxx', 'yyyy', 'zzzz']"
      ]
     },
     "execution_count": 14,
     "metadata": {},
     "output_type": "execute_result"
    }
   ],
   "source": [
    "l3 = [i*j for j in range(1,5) for i in \"xyz\"] \n",
    "l3"
   ]
  },
  {
   "cell_type": "markdown",
   "metadata": {},
   "source": [
    "(d) [[2], [3], [4], [3], [4], [5], [4], [5], [6]]"
   ]
  },
  {
   "cell_type": "code",
   "execution_count": 15,
   "metadata": {},
   "outputs": [
    {
     "data": {
      "text/plain": [
       "[[2], [3], [4], [3], [4], [5], [4], [5], [6]]"
      ]
     },
     "execution_count": 15,
     "metadata": {},
     "output_type": "execute_result"
    }
   ],
   "source": [
    "l4 = [[i+j] for i in range(2,5) for j in range(3)]\n",
    "l4"
   ]
  },
  {
   "cell_type": "markdown",
   "metadata": {},
   "source": [
    "(e) [[2, 3, 4, 5], [3, 4, 5, 6], [4, 5, 6, 7], [5, 6, 7, 8]]"
   ]
  },
  {
   "cell_type": "code",
   "execution_count": 16,
   "metadata": {},
   "outputs": [
    {
     "data": {
      "text/plain": [
       "[[2, 3, 4, 5], [3, 4, 5, 6], [4, 5, 6, 7], [5, 6, 7, 8]]"
      ]
     },
     "execution_count": 16,
     "metadata": {},
     "output_type": "execute_result"
    }
   ],
   "source": [
    "l5 = [[i,i+1,i+2,i+3] for i in range(2,6)]\n",
    "l5"
   ]
  },
  {
   "cell_type": "markdown",
   "metadata": {},
   "source": [
    "(f) [(1, 1), (2, 1), (3, 1), (1, 2), (2, 2), (3, 2), (1, 3), (2, 3), (3, 3)]"
   ]
  },
  {
   "cell_type": "code",
   "execution_count": 18,
   "metadata": {},
   "outputs": [
    {
     "data": {
      "text/plain": [
       "[(1, 1), (2, 1), (3, 1), (1, 2), (2, 2), (3, 2), (1, 3), (2, 3), (3, 3)]"
      ]
     },
     "execution_count": 18,
     "metadata": {},
     "output_type": "execute_result"
    }
   ],
   "source": [
    "l6 = [(i,j) for j in range(1,4) for i in range(1,4)]\n",
    "l6"
   ]
  }
 ],
 "metadata": {
  "kernelspec": {
   "display_name": "Python 3",
   "language": "python",
   "name": "python3"
  },
  "language_info": {
   "codemirror_mode": {
    "name": "ipython",
    "version": 3
   },
   "file_extension": ".py",
   "mimetype": "text/x-python",
   "name": "python",
   "nbconvert_exporter": "python",
   "pygments_lexer": "ipython3",
   "version": "3.8.5"
  }
 },
 "nbformat": 4,
 "nbformat_minor": 4
}
